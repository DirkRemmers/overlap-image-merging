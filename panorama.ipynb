{
 "cells": [
  {
   "cell_type": "code",
   "execution_count": 1,
   "metadata": {},
   "outputs": [],
   "source": [
    "# import packages\n",
    "import numpy as np\n",
    "from skimage import io, color, transform\n",
    "import os\n",
    "import matplotlib.pyplot as plt\n",
    "from skimage.feature import ORB\n",
    "from tqdm.notebook import tqdm"
   ]
  },
  {
   "cell_type": "code",
   "execution_count": 3,
   "metadata": {},
   "outputs": [
    {
     "data": {
      "application/vnd.jupyter.widget-view+json": {
       "model_id": "834f046f69514985b8c760a67648b5a0",
       "version_major": 2,
       "version_minor": 0
      },
      "text/plain": [
       "  0%|          | 0/30 [00:00<?, ?it/s]"
      ]
     },
     "metadata": {},
     "output_type": "display_data"
    }
   ],
   "source": [
    "# load images\n",
    "image_dir = './images'\n",
    "files = sorted(os.listdir(image_dir))\n",
    "images = []\n",
    "for file_name in tqdm(files):\n",
    "    image = io.imread(f\"{image_dir}/{file_name}\")\n",
    "    gray_image = (color.rgb2gray(image)*255).astype(np.uint8)\n",
    "    image_resized = transform.resize(\n",
    "        gray_image, \n",
    "        (gray_image.shape[0] // 4, gray_image.shape[1] // 4),\n",
    "        anti_aliasing=True\n",
    "        )\n",
    "    images.append(image_resized)"
   ]
  },
  {
   "cell_type": "code",
   "execution_count": 6,
   "metadata": {},
   "outputs": [],
   "source": [
    "# Initialize ORB\n",
    "# 800 keypoints is large enough for robust results, \n",
    "# but low enough to run within a few seconds. \n",
    "orb = ORB(n_keypoints=800, fast_threshold=0.05)"
   ]
  },
  {
   "cell_type": "code",
   "execution_count": 7,
   "metadata": {},
   "outputs": [
    {
     "data": {
      "application/vnd.jupyter.widget-view+json": {
       "model_id": "f3830df749e4418f8440bd5094be77f4",
       "version_major": 2,
       "version_minor": 0
      },
      "text/plain": [
       "  0%|          | 0/3 [00:00<?, ?it/s]"
      ]
     },
     "metadata": {},
     "output_type": "display_data"
    }
   ],
   "source": [
    "# find keypoints\n",
    "keypoints_list = []\n",
    "descriptor_list = []\n",
    "for image in tqdm(images[0:3]):\n",
    "    # detect keypoints in img\n",
    "    orb.detect_and_extract(image)\n",
    "    keypoints_list.append(orb.keypoints)\n",
    "    descriptor_list.append(orb.descriptors)\n"
   ]
  },
  {
   "cell_type": "code",
   "execution_count": null,
   "metadata": {},
   "outputs": [],
   "source": []
  }
 ],
 "metadata": {
  "kernelspec": {
   "display_name": "Python 3.10.8 ('panorama')",
   "language": "python",
   "name": "python3"
  },
  "language_info": {
   "codemirror_mode": {
    "name": "ipython",
    "version": 3
   },
   "file_extension": ".py",
   "mimetype": "text/x-python",
   "name": "python",
   "nbconvert_exporter": "python",
   "pygments_lexer": "ipython3",
   "version": "3.10.8"
  },
  "orig_nbformat": 4,
  "vscode": {
   "interpreter": {
    "hash": "ae62c48abcd3e1c96750dd2ac90b0e3b0895ee73942e43e80a9ddbfd37297d6e"
   }
  }
 },
 "nbformat": 4,
 "nbformat_minor": 2
}
